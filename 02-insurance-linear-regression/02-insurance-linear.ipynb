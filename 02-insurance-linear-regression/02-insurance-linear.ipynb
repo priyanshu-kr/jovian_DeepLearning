{
 "cells": [
  {
   "cell_type": "markdown",
   "metadata": {
    "_cell_guid": "b1076dfc-b9ad-4769-8c92-a6c4dae69d19",
    "_uuid": "8f2839f25d086af736a60e9eeb907d3b93b6e0e5"
   },
   "source": [
    "# Insurance cost prediction using linear regression\n",
    "\n",
    "In this notebook we're going to use information like a person's age, sex, BMI, no. of children and smoking habit to predict the price of yearly medical bills. This kind of model is useful for insurance companies to determine the yearly insurance premium for a person. The dataset for this problem is taken from [Kaggle](https://www.kaggle.com/mirichoi0218/insurance).\n",
    "\n",
    "\n",
    "We will create a model with the following steps:\n",
    "1. Download and explore the dataset\n",
    "2. Prepare the dataset for training\n",
    "3. Create a linear regression model\n",
    "4. Train the model to fit the data\n",
    "5. Make predictions using the trained model"
   ]
  },
  {
   "cell_type": "code",
   "execution_count": 1,
   "metadata": {},
   "outputs": [
    {
     "data": {
      "application/javascript": [
       "if (window.IPython && IPython.notebook.kernel) IPython.notebook.kernel.execute('jovian.utils.jupyter.get_notebook_name_saved = lambda: \"' + IPython.notebook.notebook_name + '\"')"
      ],
      "text/plain": [
       "<IPython.core.display.Javascript object>"
      ]
     },
     "metadata": {},
     "output_type": "display_data"
    }
   ],
   "source": [
    "import torch\n",
    "import jovian\n",
    "import torchvision\n",
    "import torch.nn as nn\n",
    "import pandas as pd\n",
    "import matplotlib.pyplot as plt\n",
    "import torch.nn.functional as F\n",
    "from torchvision.datasets.utils import download_url\n",
    "from torch.utils.data import DataLoader, TensorDataset, random_split"
   ]
  },
  {
   "cell_type": "code",
   "execution_count": 2,
   "metadata": {},
   "outputs": [],
   "source": [
    "project_name='02-insurance-linear-regression'"
   ]
  },
  {
   "cell_type": "markdown",
   "metadata": {},
   "source": [
    "## Step 1: Download and explore the data\n",
    "\n",
    "Let us begin by downloading the data. We'll use the `download_url` function from PyTorch to get the data as a CSV (comma-separated values) file. "
   ]
  },
  {
   "cell_type": "code",
   "execution_count": 3,
   "metadata": {
    "_cell_guid": "79c7e3d0-c299-4dcb-8224-4455121ee9b0",
    "_uuid": "d629ff2d2480ee46fbb7e2d37f6b5fab8052498a"
   },
   "outputs": [
    {
     "name": "stdout",
     "output_type": "stream",
     "text": [
      "Using downloaded and verified file: ./insurance.csv\n"
     ]
    }
   ],
   "source": [
    "DATASET_URL = \"https://hub.jovian.ml/wp-content/uploads/2020/05/insurance.csv\"\n",
    "DATA_FILENAME = \"insurance.csv\"\n",
    "download_url(DATASET_URL, '.')"
   ]
  },
  {
   "cell_type": "markdown",
   "metadata": {},
   "source": [
    "To load the dataset into memory, we'll use the `read_csv` function from the `pandas` library. The data will be loaded as a Pandas dataframe. See this short tutorial to learn more: https://data36.com/pandas-tutorial-1-basics-reading-data-files-dataframes-data-selection/"
   ]
  },
  {
   "cell_type": "code",
   "execution_count": 4,
   "metadata": {},
   "outputs": [
    {
     "data": {
      "text/html": [
       "<div>\n",
       "<style scoped>\n",
       "    .dataframe tbody tr th:only-of-type {\n",
       "        vertical-align: middle;\n",
       "    }\n",
       "\n",
       "    .dataframe tbody tr th {\n",
       "        vertical-align: top;\n",
       "    }\n",
       "\n",
       "    .dataframe thead th {\n",
       "        text-align: right;\n",
       "    }\n",
       "</style>\n",
       "<table border=\"1\" class=\"dataframe\">\n",
       "  <thead>\n",
       "    <tr style=\"text-align: right;\">\n",
       "      <th></th>\n",
       "      <th>age</th>\n",
       "      <th>sex</th>\n",
       "      <th>bmi</th>\n",
       "      <th>children</th>\n",
       "      <th>smoker</th>\n",
       "      <th>region</th>\n",
       "      <th>charges</th>\n",
       "    </tr>\n",
       "  </thead>\n",
       "  <tbody>\n",
       "    <tr>\n",
       "      <th>0</th>\n",
       "      <td>19</td>\n",
       "      <td>female</td>\n",
       "      <td>27.900</td>\n",
       "      <td>0</td>\n",
       "      <td>yes</td>\n",
       "      <td>southwest</td>\n",
       "      <td>16884.92400</td>\n",
       "    </tr>\n",
       "    <tr>\n",
       "      <th>1</th>\n",
       "      <td>18</td>\n",
       "      <td>male</td>\n",
       "      <td>33.770</td>\n",
       "      <td>1</td>\n",
       "      <td>no</td>\n",
       "      <td>southeast</td>\n",
       "      <td>1725.55230</td>\n",
       "    </tr>\n",
       "    <tr>\n",
       "      <th>2</th>\n",
       "      <td>28</td>\n",
       "      <td>male</td>\n",
       "      <td>33.000</td>\n",
       "      <td>3</td>\n",
       "      <td>no</td>\n",
       "      <td>southeast</td>\n",
       "      <td>4449.46200</td>\n",
       "    </tr>\n",
       "    <tr>\n",
       "      <th>3</th>\n",
       "      <td>33</td>\n",
       "      <td>male</td>\n",
       "      <td>22.705</td>\n",
       "      <td>0</td>\n",
       "      <td>no</td>\n",
       "      <td>northwest</td>\n",
       "      <td>21984.47061</td>\n",
       "    </tr>\n",
       "    <tr>\n",
       "      <th>4</th>\n",
       "      <td>32</td>\n",
       "      <td>male</td>\n",
       "      <td>28.880</td>\n",
       "      <td>0</td>\n",
       "      <td>no</td>\n",
       "      <td>northwest</td>\n",
       "      <td>3866.85520</td>\n",
       "    </tr>\n",
       "  </tbody>\n",
       "</table>\n",
       "</div>"
      ],
      "text/plain": [
       "   age     sex     bmi  children smoker     region      charges\n",
       "0   19  female  27.900         0    yes  southwest  16884.92400\n",
       "1   18    male  33.770         1     no  southeast   1725.55230\n",
       "2   28    male  33.000         3     no  southeast   4449.46200\n",
       "3   33    male  22.705         0     no  northwest  21984.47061\n",
       "4   32    male  28.880         0     no  northwest   3866.85520"
      ]
     },
     "execution_count": 4,
     "metadata": {},
     "output_type": "execute_result"
    }
   ],
   "source": [
    "dataframe_raw = pd.read_csv(DATA_FILENAME)\n",
    "dataframe_raw.head()"
   ]
  },
  {
   "cell_type": "markdown",
   "metadata": {},
   "source": [
    "We're going to do a slight customization of the data, so that you every participant receives a slightly different version of the dataset. Fill in your name below as a string (enter at least 5 characters)"
   ]
  },
  {
   "cell_type": "code",
   "execution_count": 5,
   "metadata": {},
   "outputs": [],
   "source": [
    "your_name = \"Priyanshu\""
   ]
  },
  {
   "cell_type": "markdown",
   "metadata": {},
   "source": [
    "The `customize_dataset` function will customize the dataset slightly using your name as a source of random numbers."
   ]
  },
  {
   "cell_type": "code",
   "execution_count": 6,
   "metadata": {},
   "outputs": [],
   "source": [
    "def customize_dataset(dataframe_raw, rand_str):\n",
    "    dataframe = dataframe_raw.copy(deep=True)\n",
    "    # drop some rows\n",
    "    dataframe = dataframe.sample(int(0.95*len(dataframe)), random_state=int(ord(rand_str[0])))\n",
    "    # scale input\n",
    "    dataframe.bmi = dataframe.bmi * ord(rand_str[1])/100.\n",
    "    # scale target\n",
    "    dataframe.charges = dataframe.charges * ord(rand_str[2])/100.\n",
    "    # drop column\n",
    "    if ord(rand_str[3]) % 2 == 1:\n",
    "        dataframe = dataframe.drop(['region'], axis=1)\n",
    "    return dataframe"
   ]
  },
  {
   "cell_type": "code",
   "execution_count": 7,
   "metadata": {},
   "outputs": [
    {
     "data": {
      "text/html": [
       "<div>\n",
       "<style scoped>\n",
       "    .dataframe tbody tr th:only-of-type {\n",
       "        vertical-align: middle;\n",
       "    }\n",
       "\n",
       "    .dataframe tbody tr th {\n",
       "        vertical-align: top;\n",
       "    }\n",
       "\n",
       "    .dataframe thead th {\n",
       "        text-align: right;\n",
       "    }\n",
       "</style>\n",
       "<table border=\"1\" class=\"dataframe\">\n",
       "  <thead>\n",
       "    <tr style=\"text-align: right;\">\n",
       "      <th></th>\n",
       "      <th>age</th>\n",
       "      <th>sex</th>\n",
       "      <th>bmi</th>\n",
       "      <th>children</th>\n",
       "      <th>smoker</th>\n",
       "      <th>charges</th>\n",
       "    </tr>\n",
       "  </thead>\n",
       "  <tbody>\n",
       "    <tr>\n",
       "      <th>240</th>\n",
       "      <td>23</td>\n",
       "      <td>female</td>\n",
       "      <td>41.8038</td>\n",
       "      <td>2</td>\n",
       "      <td>yes</td>\n",
       "      <td>40437.209715</td>\n",
       "    </tr>\n",
       "    <tr>\n",
       "      <th>651</th>\n",
       "      <td>53</td>\n",
       "      <td>female</td>\n",
       "      <td>45.1440</td>\n",
       "      <td>1</td>\n",
       "      <td>no</td>\n",
       "      <td>11108.696550</td>\n",
       "    </tr>\n",
       "    <tr>\n",
       "      <th>761</th>\n",
       "      <td>23</td>\n",
       "      <td>male</td>\n",
       "      <td>40.1280</td>\n",
       "      <td>1</td>\n",
       "      <td>no</td>\n",
       "      <td>2537.802750</td>\n",
       "    </tr>\n",
       "    <tr>\n",
       "      <th>836</th>\n",
       "      <td>36</td>\n",
       "      <td>male</td>\n",
       "      <td>35.9100</td>\n",
       "      <td>0</td>\n",
       "      <td>no</td>\n",
       "      <td>4622.344650</td>\n",
       "    </tr>\n",
       "    <tr>\n",
       "      <th>1147</th>\n",
       "      <td>20</td>\n",
       "      <td>female</td>\n",
       "      <td>36.3888</td>\n",
       "      <td>0</td>\n",
       "      <td>no</td>\n",
       "      <td>2374.647240</td>\n",
       "    </tr>\n",
       "  </tbody>\n",
       "</table>\n",
       "</div>"
      ],
      "text/plain": [
       "      age     sex      bmi  children smoker       charges\n",
       "240    23  female  41.8038         2    yes  40437.209715\n",
       "651    53  female  45.1440         1     no  11108.696550\n",
       "761    23    male  40.1280         1     no   2537.802750\n",
       "836    36    male  35.9100         0     no   4622.344650\n",
       "1147   20  female  36.3888         0     no   2374.647240"
      ]
     },
     "execution_count": 7,
     "metadata": {},
     "output_type": "execute_result"
    }
   ],
   "source": [
    "dataframe = customize_dataset(dataframe_raw, your_name)\n",
    "dataframe.head()"
   ]
  },
  {
   "cell_type": "markdown",
   "metadata": {},
   "source": [
    "Let us answer some basic questions about the dataset. \n",
    "\n",
    "\n",
    "**Q: How many rows does the dataset have?**"
   ]
  },
  {
   "cell_type": "code",
   "execution_count": 8,
   "metadata": {},
   "outputs": [
    {
     "name": "stdout",
     "output_type": "stream",
     "text": [
      "1271\n"
     ]
    }
   ],
   "source": [
    "num_rows = len(dataframe)\n",
    "print(num_rows)"
   ]
  },
  {
   "cell_type": "markdown",
   "metadata": {},
   "source": [
    "**Q: How many columns doe the dataset have?**"
   ]
  },
  {
   "cell_type": "code",
   "execution_count": 9,
   "metadata": {},
   "outputs": [
    {
     "name": "stdout",
     "output_type": "stream",
     "text": [
      "6\n"
     ]
    }
   ],
   "source": [
    "num_cols = len(dataframe.columns)\n",
    "print(num_cols)"
   ]
  },
  {
   "cell_type": "markdown",
   "metadata": {},
   "source": [
    "**Q: What are the column titles of the input variables?**"
   ]
  },
  {
   "cell_type": "code",
   "execution_count": 10,
   "metadata": {},
   "outputs": [
    {
     "data": {
      "text/plain": [
       "['age', 'sex', 'bmi', 'children', 'smoker']"
      ]
     },
     "execution_count": 10,
     "metadata": {},
     "output_type": "execute_result"
    }
   ],
   "source": [
    "input_cols = [\"age\", \"sex\", \"bmi\", \"children\", \"smoker\"]\n",
    "input_cols"
   ]
  },
  {
   "cell_type": "markdown",
   "metadata": {},
   "source": [
    "**Q: Which of the input columns are non-numeric or categorial variables ?**\n",
    "\n",
    "Hint: `sex` is one of them. List the columns that are not numbers."
   ]
  },
  {
   "cell_type": "code",
   "execution_count": 11,
   "metadata": {},
   "outputs": [
    {
     "data": {
      "text/plain": [
       "['sex', 'smoker']"
      ]
     },
     "execution_count": 11,
     "metadata": {},
     "output_type": "execute_result"
    }
   ],
   "source": [
    "categorical_cols = dataframe.select_dtypes('object').columns.to_list()\n",
    "categorical_cols"
   ]
  },
  {
   "cell_type": "markdown",
   "metadata": {},
   "source": [
    "**Q: What are the column titles of output/target variable(s)?**"
   ]
  },
  {
   "cell_type": "code",
   "execution_count": 12,
   "metadata": {},
   "outputs": [
    {
     "data": {
      "text/plain": [
       "['charges']"
      ]
     },
     "execution_count": 12,
     "metadata": {},
     "output_type": "execute_result"
    }
   ],
   "source": [
    "output_cols = [dataframe.columns[5]]\n",
    "output_cols"
   ]
  },
  {
   "cell_type": "markdown",
   "metadata": {},
   "source": [
    "**Q: (Optional) What is the minimum, maximum and average value of the `charges` column? Can you show the distribution of values in a graph?**\n",
    "Use this data visualization cheatsheet for referece: https://jovian.ml/aakashns/dataviz-cheatsheet"
   ]
  },
  {
   "cell_type": "code",
   "execution_count": 13,
   "metadata": {},
   "outputs": [
    {
     "name": "stdout",
     "output_type": "stream",
     "text": [
      "The minimun value of the charges column is: 1177.97\n",
      "The minimun value of the charges column is: 66958.95\n",
      "The minimun value of the charges column is: 14042.10\n"
     ]
    }
   ],
   "source": [
    "min_val = dataframe[\"charges\"].min()\n",
    "print(\"The minimun value of the charges column is: {:.2f}\".format(min_val))\n",
    "\n",
    "max_val = dataframe[\"charges\"].max()\n",
    "print(\"The minimun value of the charges column is: {:.2f}\".format(max_val))\n",
    "\n",
    "avg_val = dataframe[\"charges\"].mean()\n",
    "print(\"The minimun value of the charges column is: {:.2f}\".format(avg_val))"
   ]
  },
  {
   "cell_type": "code",
   "execution_count": 14,
   "metadata": {},
   "outputs": [
    {
     "data": {
      "image/png": "[encoded data removed]",
      "text/plain": [
       "<Figure size 1080x576 with 1 Axes>"
      ]
     },
     "metadata": {
      "needs_background": "light"
     },
     "output_type": "display_data"
    }
   ],
   "source": [
    "import seaborn as sns\n",
    "\n",
    "plt.figure(figsize=(15,8))\n",
    "sns.distplot(dataframe.charges, kde=True);"
   ]
  },
  {
   "cell_type": "markdown",
   "metadata": {},
   "source": [
    "## Step 2: Prepare the dataset for training\n",
    "\n",
    "We need to convert the data from the Pandas dataframe into a PyTorch tensors for training. To do this, the first step is to convert it numpy arrays. If you've filled out `input_cols`, `categorial_cols` and `output_cols` correctly, this following function will perform the conversion to numpy arrays."
   ]
  },
  {
   "cell_type": "code",
   "execution_count": 15,
   "metadata": {},
   "outputs": [],
   "source": [
    "def dataframe_to_arrays(dataframe):\n",
    "    # Make a copy of the original dataframe\n",
    "    dataframe1 = dataframe.copy(deep=True)\n",
    "    # Convert non-numeric categorical columns to numbers\n",
    "    for col in categorical_cols:\n",
    "        dataframe1[col] = dataframe1[col].astype('category').cat.codes\n",
    "    # Extract input & outupts as numpy arrays\n",
    "    inputs_array = dataframe1[input_cols].to_numpy()\n",
    "    targets_array = dataframe1[output_cols].to_numpy()\n",
    "    return inputs_array, targets_array"
   ]
  },
  {
   "cell_type": "markdown",
   "metadata": {},
   "source": [
    "Read through the [Pandas documentation](https://pandas.pydata.org/pandas-docs/stable/user_guide/categorical.html) to understand how we're converting categorical variables into numbers."
   ]
  },
  {
   "cell_type": "code",
   "execution_count": 16,
   "metadata": {},
   "outputs": [
    {
     "data": {
      "text/plain": [
       "(array([[23.    ,  0.    , 41.8038,  2.    ,  1.    ],\n",
       "        [53.    ,  0.    , 45.144 ,  1.    ,  0.    ],\n",
       "        [23.    ,  1.    , 40.128 ,  1.    ,  0.    ],\n",
       "        ...,\n",
       "        [59.    ,  0.    , 41.9121,  1.    ,  1.    ],\n",
       "        [53.    ,  0.    , 37.905 ,  0.    ,  0.    ],\n",
       "        [48.    ,  0.    , 37.9962,  0.    ,  0.    ]]),\n",
       " array([[40437.209715 ],\n",
       "        [11108.69655  ],\n",
       "        [ 2537.80275  ],\n",
       "        ...,\n",
       "        [50291.6309175],\n",
       "        [11093.128725 ],\n",
       "        [ 8697.864735 ]]))"
      ]
     },
     "execution_count": 16,
     "metadata": {},
     "output_type": "execute_result"
    }
   ],
   "source": [
    "inputs_array, targets_array = dataframe_to_arrays(dataframe)\n",
    "inputs_array, targets_array"
   ]
  },
  {
   "cell_type": "markdown",
   "metadata": {},
   "source": [
    "**Q: Convert the numpy arrays `inputs_array` and `targets_array` into PyTorch tensors. Make sure that the data type is `torch.float32`.**"
   ]
  },
  {
   "cell_type": "code",
   "execution_count": 17,
   "metadata": {},
   "outputs": [],
   "source": [
    "inputs = torch.tensor(inputs_array, dtype=torch.float32)\n",
    "targets = torch.tensor(targets_array, dtype=torch.float32)"
   ]
  },
  {
   "cell_type": "code",
   "execution_count": 18,
   "metadata": {},
   "outputs": [
    {
     "data": {
      "text/plain": [
       "(torch.float32, torch.float32)"
      ]
     },
     "execution_count": 18,
     "metadata": {},
     "output_type": "execute_result"
    }
   ],
   "source": [
    "inputs.dtype, targets.dtype"
   ]
  },
  {
   "cell_type": "markdown",
   "metadata": {},
   "source": [
    "Next, we need to create PyTorch datasets & data loaders for training & validation. We'll start by creating a `TensorDataset`."
   ]
  },
  {
   "cell_type": "code",
   "execution_count": 19,
   "metadata": {},
   "outputs": [],
   "source": [
    "dataset = TensorDataset(inputs, targets)"
   ]
  },
  {
   "cell_type": "markdown",
   "metadata": {},
   "source": [
    "**Q: Pick a number between `0.1` and `0.2` to determine the fraction of data that will be used for creating the validation set. Then use `random_split` to create training & validation datasets.**"
   ]
  },
  {
   "cell_type": "code",
   "execution_count": 20,
   "metadata": {},
   "outputs": [],
   "source": [
    "val_percent = 0.150 # between 0.1 and 0.2\n",
    "val_size = int(num_rows * val_percent)\n",
    "train_size = num_rows - val_size\n",
    "\n",
    "\n",
    "train_ds, val_ds =  random_split(dataset, [train_size, val_size]) # Use the random_split function to split dataset into 2 parts of the desired length"
   ]
  },
  {
   "cell_type": "markdown",
   "metadata": {},
   "source": [
    "Finally, we can create data loaders for training & validation.\n",
    "\n",
    "**Q: Pick a batch size for the data loader.**"
   ]
  },
  {
   "cell_type": "code",
   "execution_count": 38,
   "metadata": {},
   "outputs": [],
   "source": [
    "batch_size = 40"
   ]
  },
  {
   "cell_type": "code",
   "execution_count": 39,
   "metadata": {},
   "outputs": [],
   "source": [
    "train_loader = DataLoader(train_ds, batch_size, shuffle=True)\n",
    "val_loader = DataLoader(val_ds, batch_size)"
   ]
  },
  {
   "cell_type": "markdown",
   "metadata": {},
   "source": [
    "Let's look at a batch of data to verify everything is working fine so far."
   ]
  },
  {
   "cell_type": "code",
   "execution_count": 40,
   "metadata": {},
   "outputs": [
    {
     "name": "stdout",
     "output_type": "stream",
     "text": [
      "inputs: tensor([[39.0000,  1.0000, 24.9090,  1.0000,  0.0000],\n",
      "        [23.0000,  0.0000, 38.0760,  0.0000,  0.0000],\n",
      "        [53.0000,  0.0000, 42.6702,  1.0000,  0.0000],\n",
      "        [43.0000,  1.0000, 34.3311,  3.0000,  0.0000],\n",
      "        [55.0000,  0.0000, 42.2940,  0.0000,  0.0000],\n",
      "        [55.0000,  1.0000, 42.5220,  0.0000,  0.0000],\n",
      "        [64.0000,  0.0000, 26.2086,  0.0000,  1.0000],\n",
      "        [56.0000,  1.0000, 45.9420,  0.0000,  0.0000],\n",
      "        [35.0000,  0.0000, 39.6720,  1.0000,  0.0000],\n",
      "        [38.0000,  1.0000, 39.5580,  2.0000,  0.0000],\n",
      "        [28.0000,  0.0000, 27.7248,  1.0000,  0.0000],\n",
      "        [40.0000,  0.0000, 37.6200,  3.0000,  0.0000],\n",
      "        [26.0000,  0.0000, 34.1088,  2.0000,  0.0000],\n",
      "        [50.0000,  0.0000, 31.7262,  3.0000,  0.0000],\n",
      "        [64.0000,  0.0000, 41.0058,  0.0000,  0.0000],\n",
      "        [60.0000,  1.0000, 37.7454,  3.0000,  0.0000],\n",
      "        [48.0000,  1.0000, 31.9200,  1.0000,  1.0000],\n",
      "        [25.0000,  0.0000, 38.7486,  1.0000,  0.0000],\n",
      "        [19.0000,  0.0000, 29.3493,  1.0000,  0.0000],\n",
      "        [18.0000,  1.0000, 38.2299,  0.0000,  1.0000],\n",
      "        [63.0000,  1.0000, 37.7340,  0.0000,  0.0000],\n",
      "        [29.0000,  1.0000, 33.0315,  1.0000,  0.0000],\n",
      "        [31.0000,  1.0000, 41.3820,  2.0000,  1.0000],\n",
      "        [50.0000,  0.0000, 26.8356,  2.0000,  0.0000],\n",
      "        [49.0000,  1.0000, 42.7614,  2.0000,  0.0000],\n",
      "        [41.0000,  0.0000, 32.2734,  1.0000,  0.0000],\n",
      "        [44.0000,  1.0000, 36.4971,  2.0000,  0.0000],\n",
      "        [49.0000,  0.0000, 25.7754,  1.0000,  0.0000],\n",
      "        [33.0000,  0.0000, 38.1900,  0.0000,  1.0000],\n",
      "        [23.0000,  0.0000, 44.7678,  2.0000,  0.0000],\n",
      "        [24.0000,  1.0000, 45.7710,  0.0000,  1.0000],\n",
      "        [39.0000,  1.0000, 38.8740,  2.0000,  0.0000],\n",
      "        [19.0000,  1.0000, 39.6720,  0.0000,  1.0000],\n",
      "        [59.0000,  1.0000, 32.8149,  0.0000,  0.0000],\n",
      "        [26.0000,  1.0000, 53.0442,  1.0000,  0.0000],\n",
      "        [19.0000,  1.0000, 51.1632,  0.0000,  1.0000],\n",
      "        [35.0000,  0.0000, 31.9485,  0.0000,  1.0000],\n",
      "        [50.0000,  1.0000, 36.7137,  0.0000,  0.0000],\n",
      "        [38.0000,  1.0000, 22.0020,  0.0000,  1.0000],\n",
      "        [18.0000,  1.0000, 40.1280,  1.0000,  0.0000]])\n",
      "targets: tensor([[ 6423.3691],\n",
      "        [11335.7344],\n",
      "        [11507.6797],\n",
      "        [ 8830.5488],\n",
      "        [11249.3262],\n",
      "        [21661.7969],\n",
      "        [28389.8105],\n",
      "        [11132.5039],\n",
      "        [ 5508.3491],\n",
      "        [ 6386.5254],\n",
      "        [24453.3750],\n",
      "        [ 8066.8037],\n",
      "        [ 4181.0757],\n",
      "        [20736.8535],\n",
      "        [15029.5391],\n",
      "        [14615.8145],\n",
      "        [24746.6855],\n",
      "        [ 3388.4771],\n",
      "        [ 2846.3699],\n",
      "        [36348.7344],\n",
      "        [14063.4434],\n",
      "        [ 4242.5859],\n",
      "        [40646.5508],\n",
      "        [10612.5820],\n",
      "        [ 9769.9365],\n",
      "        [ 7511.2314],\n",
      "        [ 8522.0820],\n",
      "        [10045.3408],\n",
      "        [38933.3398],\n",
      "        [ 3675.6428],\n",
      "        [40032.5586],\n",
      "        [24741.1660],\n",
      "        [36518.5977],\n",
      "        [12736.0947],\n",
      "        [ 3073.4180],\n",
      "        [41708.8828],\n",
      "        [21246.5977],\n",
      "        [ 9277.0283],\n",
      "        [16611.7344],\n",
      "        [ 1813.9170]])\n"
     ]
    }
   ],
   "source": [
    "for xb, yb in train_loader:\n",
    "    print(\"inputs:\", xb)\n",
    "    print(\"targets:\", yb)\n",
    "    break"
   ]
  },
  {
   "cell_type": "markdown",
   "metadata": {},
   "source": [
    "Let's save our work by committing to Jovian."
   ]
  },
  {
   "cell_type": "markdown",
   "metadata": {},
   "source": [
    "## Step 3: Create a Linear Regression Model\n",
    "\n",
    "Our model itself is a fairly straightforward linear regression (we'll build more complex models in the next assignment). \n"
   ]
  },
  {
   "cell_type": "code",
   "execution_count": 47,
   "metadata": {},
   "outputs": [],
   "source": [
    "input_size = len(input_cols)\n",
    "output_size = len(output_cols)"
   ]
  },
  {
   "cell_type": "markdown",
   "metadata": {},
   "source": [
    "**Q: Complete the class definition below by filling out the constructor (`__init__`), `forward`, `training_step` and `validation_step` methods.**\n",
    "\n",
    "Hint: Think carefully about picking a good loss fuction (it's not cross entropy). Maybe try 2-3 of them and see which one works best. See https://pytorch.org/docs/stable/nn.functional.html#loss-functions"
   ]
  },
  {
   "cell_type": "code",
   "execution_count": 48,
   "metadata": {},
   "outputs": [],
   "source": [
    "class InsuranceModel(nn.Module):\n",
    "    def __init__(self):\n",
    "        super().__init__()\n",
    "        self.linear = nn.Linear(input_size, output_size)                 # fill this (hint: use input_size & output_size defined above)\n",
    "        \n",
    "    def forward(self, xb):\n",
    "        out = self.linear(xb)                          # fill this\n",
    "        return out\n",
    "    \n",
    "    def training_step(self, batch):\n",
    "        inputs, targets = batch \n",
    "        # Generate predictions\n",
    "        out = self(inputs)          \n",
    "        # Calcuate loss\n",
    "        loss = nn.functional.l1_loss(out,targets)                         # fill this\n",
    "        return loss\n",
    "    \n",
    "    def validation_step(self, batch):\n",
    "        inputs, targets = batch\n",
    "        # Generate predictions\n",
    "        out = self(inputs)\n",
    "        # Calculate loss\n",
    "        loss = nn.functional.l1_loss(out,targets)                           # fill this    \n",
    "        return {'val_loss': loss.detach()}\n",
    "        \n",
    "    def validation_epoch_end(self, outputs):\n",
    "        batch_losses = [x['val_loss'] for x in outputs]\n",
    "        epoch_loss = torch.stack(batch_losses).mean()   # Combine losses\n",
    "        return {'val_loss': epoch_loss.item()}\n",
    "    \n",
    "    def epoch_end(self, epoch, result, num_epochs):\n",
    "        # Print result every 20th epoch\n",
    "        if (epoch+1) % 20 == 0 or epoch == num_epochs-1:\n",
    "            print(\"Epoch [{}], val_loss: {:.4f}\".format(epoch+1, result['val_loss']))"
   ]
  },
  {
   "cell_type": "markdown",
   "metadata": {},
   "source": [
    "Let us create a model using the `InsuranceModel` class. You may need to come back later and re-run the next cell to reinitialize the model, in case the loss becomes `nan` or `infinity`."
   ]
  },
  {
   "cell_type": "code",
   "execution_count": 49,
   "metadata": {},
   "outputs": [],
   "source": [
    "model = InsuranceModel()"
   ]
  },
  {
   "cell_type": "markdown",
   "metadata": {},
   "source": [
    "Let's check out the weights and biases of the model using `model.parameters`."
   ]
  },
  {
   "cell_type": "code",
   "execution_count": 50,
   "metadata": {},
   "outputs": [
    {
     "data": {
      "text/plain": [
       "[Parameter containing:\n",
       " tensor([[ 0.1921,  0.1329, -0.1697, -0.4464, -0.1952]], requires_grad=True),\n",
       " Parameter containing:\n",
       " tensor([-0.2021], requires_grad=True)]"
      ]
     },
     "execution_count": 50,
     "metadata": {},
     "output_type": "execute_result"
    }
   ],
   "source": [
    "list(model.parameters())"
   ]
  },
  {
   "cell_type": "markdown",
   "metadata": {},
   "source": [
    "One final commit before we train the model."
   ]
  },
  {
   "cell_type": "code",
   "execution_count": 51,
   "metadata": {},
   "outputs": [
    {
     "data": {
      "application/javascript": [
       "window.require && require([\"base/js/namespace\"],function(Jupyter){Jupyter.notebook.save_checkpoint()})"
      ],
      "text/plain": [
       "<IPython.core.display.Javascript object>"
      ]
     },
     "metadata": {},
     "output_type": "display_data"
    },
    {
     "name": "stdout",
     "output_type": "stream",
     "text": [
      "[jovian] Attempting to save notebook..\u001b[0m\n",
      "[jovian] Updating notebook \"priyanshu-kr/02-insurance-linear-regression\" on https://jovian.ai/\u001b[0m\n",
      "[jovian] Uploading notebook..\u001b[0m\n",
      "[jovian] Committed successfully! https://jovian.ai/priyanshu-kr/02-insurance-linear-regression\u001b[0m\n"
     ]
    },
    {
     "data": {
      "text/plain": [
       "'https://jovian.ai/priyanshu-kr/02-insurance-linear-regression'"
      ]
     },
     "execution_count": 51,
     "metadata": {},
     "output_type": "execute_result"
    }
   ],
   "source": [
    "jovian.commit(project=project_name, environment=None)"
   ]
  },
  {
   "cell_type": "markdown",
   "metadata": {},
   "source": [
    "## Step 4: Train the model to fit the data\n",
    "\n",
    "To train our model, we'll use the same `fit` function explained in the lecture. That's the benefit of defining a generic training loop - you can use it for any problem."
   ]
  },
  {
   "cell_type": "code",
   "execution_count": 52,
   "metadata": {},
   "outputs": [],
   "source": [
    "def evaluate(model, val_loader):\n",
    "    outputs = [model.validation_step(batch) for batch in val_loader]\n",
    "    return model.validation_epoch_end(outputs)\n",
    "\n",
    "def fit(epochs, lr, model, train_loader, val_loader, opt_func=torch.optim.SGD):\n",
    "    history = []\n",
    "    optimizer = opt_func(model.parameters(), lr)\n",
    "    for epoch in range(epochs):\n",
    "        # Training Phase \n",
    "        for batch in train_loader:\n",
    "            loss = model.training_step(batch)\n",
    "            loss.backward()\n",
    "            optimizer.step()\n",
    "            optimizer.zero_grad()\n",
    "        # Validation phase\n",
    "        result = evaluate(model, val_loader)\n",
    "        model.epoch_end(epoch, result, epochs)\n",
    "        history.append(result)\n",
    "    return history"
   ]
  },
  {
   "cell_type": "markdown",
   "metadata": {},
   "source": [
    "**Q: Use the `evaluate` function to calculate the loss on the validation set before training.**"
   ]
  },
  {
   "cell_type": "code",
   "execution_count": 53,
   "metadata": {},
   "outputs": [
    {
     "name": "stdout",
     "output_type": "stream",
     "text": [
      "{'val_loss': 14939.951171875}\n"
     ]
    }
   ],
   "source": [
    "result = evaluate(model, val_loader) # Use the the evaluate function\n",
    "print(result)"
   ]
  },
  {
   "cell_type": "markdown",
   "metadata": {},
   "source": [
    "\n",
    "We are now ready to train the model. You may need to run the training loop many times, for different number of epochs and with different learning rates, to get a good result. Also, if your loss becomes too large (or `nan`), you may have to re-initialize the model by running the cell `model = InsuranceModel()`. Experiment with this for a while, and try to get to as low a loss as possible."
   ]
  },
  {
   "cell_type": "markdown",
   "metadata": {},
   "source": [
    "**Q: Train the model 4-5 times with different learning rates & for different number of epochs.**\n",
    "\n",
    "Hint: Vary learning rates by orders of 10 (e.g. `1e-2`, `1e-3`, `1e-4`, `1e-5`, `1e-6`) to figure out what works."
   ]
  },
  {
   "cell_type": "code",
   "execution_count": 54,
   "metadata": {},
   "outputs": [
    {
     "name": "stdout",
     "output_type": "stream",
     "text": [
      "Epoch [20], val_loss: 8595.2998\n",
      "Epoch [40], val_loss: 8462.2793\n",
      "Epoch [60], val_loss: 8393.5723\n",
      "Epoch [80], val_loss: 8328.6523\n",
      "Epoch [100], val_loss: 8268.8604\n",
      "Epoch [120], val_loss: 8214.1357\n",
      "Epoch [140], val_loss: 8162.1416\n",
      "Epoch [160], val_loss: 8123.2471\n",
      "Epoch [180], val_loss: 8080.6611\n",
      "Epoch [200], val_loss: 8064.6221\n",
      "Epoch [220], val_loss: 8044.7930\n",
      "Epoch [240], val_loss: 8032.7041\n",
      "Epoch [260], val_loss: 8031.7251\n",
      "Epoch [280], val_loss: 8027.2178\n",
      "Epoch [300], val_loss: 8029.8271\n",
      "Epoch [320], val_loss: 8028.0454\n",
      "Epoch [340], val_loss: 8029.6328\n",
      "Epoch [360], val_loss: 8023.3062\n",
      "Epoch [380], val_loss: 8025.4155\n",
      "Epoch [400], val_loss: 8022.5752\n",
      "Epoch [420], val_loss: 8023.4678\n",
      "Epoch [440], val_loss: 8016.3877\n",
      "Epoch [460], val_loss: 8020.0063\n",
      "Epoch [480], val_loss: 8023.8804\n",
      "Epoch [500], val_loss: 8019.0791\n"
     ]
    }
   ],
   "source": [
    "epochs = 500\n",
    "lr = 1e-2\n",
    "history1 = fit(epochs, lr, model, train_loader, val_loader)"
   ]
  },
  {
   "cell_type": "code",
   "execution_count": 55,
   "metadata": {},
   "outputs": [
    {
     "name": "stdout",
     "output_type": "stream",
     "text": [
      "Epoch [20], val_loss: 8018.4194\n",
      "Epoch [40], val_loss: 8019.1104\n",
      "Epoch [60], val_loss: 8018.0928\n",
      "Epoch [80], val_loss: 8018.5454\n",
      "Epoch [100], val_loss: 8018.4404\n",
      "Epoch [120], val_loss: 8017.7021\n",
      "Epoch [140], val_loss: 8017.5039\n",
      "Epoch [160], val_loss: 8018.1123\n",
      "Epoch [180], val_loss: 8019.4697\n",
      "Epoch [200], val_loss: 8018.3540\n",
      "Epoch [220], val_loss: 8017.9541\n",
      "Epoch [240], val_loss: 8017.5469\n",
      "Epoch [260], val_loss: 8017.3057\n",
      "Epoch [280], val_loss: 8017.6240\n",
      "Epoch [300], val_loss: 8016.9971\n",
      "Epoch [320], val_loss: 8017.2798\n",
      "Epoch [340], val_loss: 8016.8345\n",
      "Epoch [360], val_loss: 8018.2275\n",
      "Epoch [380], val_loss: 8018.2749\n",
      "Epoch [400], val_loss: 8018.2236\n",
      "Epoch [420], val_loss: 8017.6929\n",
      "Epoch [440], val_loss: 8016.7124\n",
      "Epoch [460], val_loss: 8017.4141\n",
      "Epoch [480], val_loss: 8018.1924\n",
      "Epoch [500], val_loss: 8017.1797\n"
     ]
    }
   ],
   "source": [
    "epochs = 500\n",
    "lr = 1e-3\n",
    "history2 = fit(epochs, lr, model, train_loader, val_loader)"
   ]
  },
  {
   "cell_type": "code",
   "execution_count": 56,
   "metadata": {},
   "outputs": [
    {
     "name": "stdout",
     "output_type": "stream",
     "text": [
      "Epoch [20], val_loss: 8017.1978\n",
      "Epoch [40], val_loss: 8017.1938\n",
      "Epoch [60], val_loss: 8017.1748\n",
      "Epoch [80], val_loss: 8017.1812\n",
      "Epoch [100], val_loss: 8016.9639\n",
      "Epoch [120], val_loss: 8016.9868\n",
      "Epoch [140], val_loss: 8016.9751\n",
      "Epoch [160], val_loss: 8017.0610\n",
      "Epoch [180], val_loss: 8017.0264\n",
      "Epoch [200], val_loss: 8016.9658\n",
      "Epoch [220], val_loss: 8016.9780\n",
      "Epoch [240], val_loss: 8017.0767\n",
      "Epoch [260], val_loss: 8017.1382\n",
      "Epoch [280], val_loss: 8017.0757\n",
      "Epoch [300], val_loss: 8017.1396\n",
      "Epoch [320], val_loss: 8017.2485\n",
      "Epoch [340], val_loss: 8017.2432\n",
      "Epoch [360], val_loss: 8017.2627\n",
      "Epoch [380], val_loss: 8017.3062\n",
      "Epoch [400], val_loss: 8017.3579\n",
      "Epoch [420], val_loss: 8017.2671\n",
      "Epoch [440], val_loss: 8017.1860\n",
      "Epoch [460], val_loss: 8017.2197\n",
      "Epoch [480], val_loss: 8017.2710\n",
      "Epoch [500], val_loss: 8017.3604\n"
     ]
    }
   ],
   "source": [
    "epochs = 500\n",
    "lr = 1e-4\n",
    "history3 = fit(epochs, lr, model, train_loader, val_loader)"
   ]
  },
  {
   "cell_type": "code",
   "execution_count": 57,
   "metadata": {},
   "outputs": [
    {
     "name": "stdout",
     "output_type": "stream",
     "text": [
      "Epoch [20], val_loss: 8011.1943\n",
      "Epoch [40], val_loss: 8015.3447\n",
      "Epoch [60], val_loss: 8015.4365\n",
      "Epoch [80], val_loss: 8019.4985\n",
      "Epoch [100], val_loss: 8011.8252\n",
      "Epoch [120], val_loss: 8019.7148\n",
      "Epoch [140], val_loss: 8011.6709\n",
      "Epoch [160], val_loss: 8014.7695\n",
      "Epoch [180], val_loss: 8016.7485\n",
      "Epoch [200], val_loss: 8009.6709\n",
      "Epoch [220], val_loss: 8010.2524\n",
      "Epoch [240], val_loss: 8010.0366\n",
      "Epoch [260], val_loss: 8009.0479\n",
      "Epoch [280], val_loss: 8014.5518\n",
      "Epoch [300], val_loss: 8007.4922\n",
      "Epoch [320], val_loss: 8006.6704\n",
      "Epoch [340], val_loss: 8002.3608\n",
      "Epoch [360], val_loss: 8006.2017\n",
      "Epoch [380], val_loss: 8001.3857\n",
      "Epoch [400], val_loss: 8005.4297\n",
      "Epoch [420], val_loss: 8003.9272\n",
      "Epoch [440], val_loss: 8002.4697\n",
      "Epoch [460], val_loss: 8004.8179\n",
      "Epoch [480], val_loss: 8000.0654\n",
      "Epoch [500], val_loss: 7997.1538\n"
     ]
    }
   ],
   "source": [
    "epochs = 500\n",
    "lr = 1e-2\n",
    "history4 = fit(epochs, lr, model, train_loader, val_loader)"
   ]
  },
  {
   "cell_type": "code",
   "execution_count": 60,
   "metadata": {},
   "outputs": [
    {
     "name": "stdout",
     "output_type": "stream",
     "text": [
      "Epoch [20], val_loss: 6504.6523\n",
      "Epoch [40], val_loss: 6377.2412\n",
      "Epoch [60], val_loss: 6481.1270\n",
      "Epoch [80], val_loss: 6479.4922\n",
      "Epoch [100], val_loss: 6700.7686\n",
      "Epoch [120], val_loss: 6385.6357\n",
      "Epoch [140], val_loss: 6498.8262\n",
      "Epoch [160], val_loss: 6379.2490\n",
      "Epoch [180], val_loss: 6411.5601\n",
      "Epoch [200], val_loss: 6387.2212\n",
      "Epoch [220], val_loss: 6499.8760\n",
      "Epoch [240], val_loss: 6395.2734\n",
      "Epoch [260], val_loss: 6523.8389\n",
      "Epoch [280], val_loss: 6488.2031\n",
      "Epoch [300], val_loss: 6452.4048\n",
      "Epoch [320], val_loss: 6426.4189\n",
      "Epoch [340], val_loss: 6400.9531\n",
      "Epoch [360], val_loss: 6391.1616\n",
      "Epoch [380], val_loss: 6314.5249\n",
      "Epoch [400], val_loss: 6374.1978\n",
      "Epoch [420], val_loss: 6217.5376\n",
      "Epoch [440], val_loss: 6406.2651\n",
      "Epoch [460], val_loss: 6569.1289\n",
      "Epoch [480], val_loss: 6291.9253\n",
      "Epoch [500], val_loss: 6426.6729\n"
     ]
    }
   ],
   "source": [
    "epochs = 500\n",
    "lr = 0.3\n",
    "history5 = fit(epochs, lr, model, train_loader, val_loader)"
   ]
  },
  {
   "cell_type": "markdown",
   "metadata": {},
   "source": [
    "**Q: What is the final validation loss of your model?**"
   ]
  },
  {
   "cell_type": "code",
   "execution_count": 61,
   "metadata": {},
   "outputs": [
    {
     "data": {
      "text/plain": [
       "{'val_loss': 6426.6728515625}"
      ]
     },
     "execution_count": 61,
     "metadata": {},
     "output_type": "execute_result"
    }
   ],
   "source": [
    "val_loss = evaluate(model, val_loader)\n",
    "val_loss"
   ]
  },
  {
   "cell_type": "markdown",
   "metadata": {},
   "source": [
    "Let's log the final validation loss to Jovian and commit the notebook"
   ]
  },
  {
   "cell_type": "code",
   "execution_count": 62,
   "metadata": {},
   "outputs": [
    {
     "name": "stdout",
     "output_type": "stream",
     "text": [
      "[jovian] Metrics logged.\u001b[0m\n"
     ]
    }
   ],
   "source": [
    "jovian.log_metrics(val_loss=val_loss)"
   ]
  },
  {
   "cell_type": "code",
   "execution_count": 63,
   "metadata": {},
   "outputs": [
    {
     "data": {
      "application/javascript": [
       "window.require && require([\"base/js/namespace\"],function(Jupyter){Jupyter.notebook.save_checkpoint()})"
      ],
      "text/plain": [
       "<IPython.core.display.Javascript object>"
      ]
     },
     "metadata": {},
     "output_type": "display_data"
    },
    {
     "name": "stdout",
     "output_type": "stream",
     "text": [
      "[jovian] Attempting to save notebook..\u001b[0m\n",
      "[jovian] Updating notebook \"priyanshu-kr/02-insurance-linear-regression\" on https://jovian.ai/\u001b[0m\n",
      "[jovian] Uploading notebook..\u001b[0m\n",
      "[jovian] Attaching records (metrics, hyperparameters, dataset etc.)\u001b[0m\n",
      "[jovian] Committed successfully! https://jovian.ai/priyanshu-kr/02-insurance-linear-regression\u001b[0m\n"
     ]
    },
    {
     "data": {
      "text/plain": [
       "'https://jovian.ai/priyanshu-kr/02-insurance-linear-regression'"
      ]
     },
     "execution_count": 63,
     "metadata": {},
     "output_type": "execute_result"
    }
   ],
   "source": [
    "jovian.commit(project=project_name, environment=None)"
   ]
  },
  {
   "cell_type": "code",
   "execution_count": 65,
   "metadata": {},
   "outputs": [],
   "source": [
    "def predict_single(input, target, model):\n",
    "    inputs = input.unsqueeze(0)\n",
    "    predictions = model(input)              # fill this\n",
    "    prediction = predictions[0].detach()\n",
    "    print(\"Input:\", input)\n",
    "    print(\"Target:\", target)\n",
    "    print(\"Prediction:\", prediction)"
   ]
  },
  {
   "cell_type": "code",
   "execution_count": 66,
   "metadata": {},
   "outputs": [
    {
     "name": "stdout",
     "output_type": "stream",
     "text": [
      "Input: tensor([19.0000,  1.0000, 23.5980,  0.0000,  0.0000])\n",
      "Target: tensor([1304.9568])\n",
      "Prediction: tensor(1582.6268)\n"
     ]
    }
   ],
   "source": [
    "input, target = val_ds[0]\n",
    "predict_single(input, target, model)"
   ]
  },
  {
   "cell_type": "code",
   "execution_count": 67,
   "metadata": {},
   "outputs": [
    {
     "name": "stdout",
     "output_type": "stream",
     "text": [
      "Input: tensor([38.0000,  0.0000, 22.7430,  2.0000,  0.0000])\n",
      "Target: tensor([7490.5977])\n",
      "Prediction: tensor(7821.9722)\n"
     ]
    }
   ],
   "source": [
    "input, target = val_ds[10]\n",
    "predict_single(input, target, model)"
   ]
  },
  {
   "cell_type": "code",
   "execution_count": 68,
   "metadata": {},
   "outputs": [
    {
     "name": "stdout",
     "output_type": "stream",
     "text": [
      "Input: tensor([57.0000,  1.0000, 38.7714,  0.0000,  0.0000])\n",
      "Target: tensor([11924.4941])\n",
      "Prediction: tensor(10674.2012)\n"
     ]
    }
   ],
   "source": [
    "input, target = val_ds[23]\n",
    "predict_single(input, target, model)"
   ]
  },
  {
   "cell_type": "markdown",
   "metadata": {},
   "source": [
    "Are you happy with your model's predictions? Try to improve them further."
   ]
  },
  {
   "cell_type": "markdown",
   "metadata": {},
   "source": [
    "## (Optional) Step 6: Try another dataset & blog about it\n",
    "\n",
    "While this last step is optional for the submission of your assignment, we highly recommend that you do it. Try to replicate this notebook for a different linear regression or logistic regression problem. This will help solidify your understanding, and give you a chance to differentiate the generic patterns in machine learning from problem-specific details.You can use one of these starer notebooks (just change the dataset):\n",
    "\n",
    "- Linear regression (minimal): https://jovian.ai/aakashns/housing-linear-minimal\n",
    "- Logistic regression (minimal): https://jovian.ai/aakashns/mnist-logistic-minimal\n",
    "\n",
    "Here are some sources to find good datasets:\n",
    "\n",
    "- https://lionbridge.ai/datasets/10-open-datasets-for-linear-regression/\n",
    "- https://www.kaggle.com/rtatman/datasets-for-regression-analysis\n",
    "- https://archive.ics.uci.edu/ml/datasets.php?format=&task=reg&att=&area=&numAtt=&numIns=&type=&sort=nameUp&view=table\n",
    "- https://people.sc.fsu.edu/~jburkardt/datasets/regression/regression.html\n",
    "- https://archive.ics.uci.edu/ml/datasets/wine+quality\n",
    "- https://pytorch.org/docs/stable/torchvision/datasets.html\n",
    "\n",
    "We also recommend that you write a blog about your approach to the problem. Here is a suggested structure for your post (feel free to experiment with it):\n",
    "\n",
    "- Interesting title & subtitle\n",
    "- Overview of what the blog covers (which dataset, linear regression or logistic regression, intro to PyTorch)\n",
    "- Downloading & exploring the data\n",
    "- Preparing the data for training\n",
    "- Creating a model using PyTorch\n",
    "- Training the model to fit the data\n",
    "- Your thoughts on how to experiment with different hyperparmeters to reduce loss\n",
    "- Making predictions using the model\n",
    "\n",
    "As with the previous assignment, you can [embed Juptyer notebook cells & outputs from Jovian](https://medium.com/jovianml/share-and-embed-jupyter-notebooks-online-with-jovian-ml-df709a03064e) into your blog. \n",
    "\n",
    "Don't forget to share your work on the forum: https://jovian.ai/forum/t/linear-regression-and-logistic-regression-notebooks-and-blog-posts/14039"
   ]
  },
  {
   "cell_type": "code",
   "execution_count": 69,
   "metadata": {},
   "outputs": [
    {
     "data": {
      "application/javascript": [
       "window.require && require([\"base/js/namespace\"],function(Jupyter){Jupyter.notebook.save_checkpoint()})"
      ],
      "text/plain": [
       "<IPython.core.display.Javascript object>"
      ]
     },
     "metadata": {},
     "output_type": "display_data"
    },
    {
     "name": "stdout",
     "output_type": "stream",
     "text": [
      "[jovian] Attempting to save notebook..\u001b[0m\n",
      "[jovian] Updating notebook \"priyanshu-kr/02-insurance-linear-regression\" on https://jovian.ai/\u001b[0m\n",
      "[jovian] Uploading notebook..\u001b[0m\n",
      "[jovian] Attaching records (metrics, hyperparameters, dataset etc.)\u001b[0m\n",
      "[jovian] Committed successfully! https://jovian.ai/priyanshu-kr/02-insurance-linear-regression\u001b[0m\n"
     ]
    },
    {
     "data": {
      "text/plain": [
       "'https://jovian.ai/priyanshu-kr/02-insurance-linear-regression'"
      ]
     },
     "execution_count": 69,
     "metadata": {},
     "output_type": "execute_result"
    }
   ],
   "source": [
    "jovian.commit(project=project_name, environment=None)"
   ]
  },
  {
   "cell_type": "code",
   "execution_count": null,
   "metadata": {},
   "outputs": [],
   "source": []
  }
 ],
 "metadata": {
  "kernelspec": {
   "display_name": "Python 3",
   "language": "python",
   "name": "python3"
  },
  "language_info": {
   "codemirror_mode": {
    "name": "ipython",
    "version": 3
   },
   "file_extension": ".py",
   "mimetype": "text/x-python",
   "name": "python",
   "nbconvert_exporter": "python",
   "pygments_lexer": "ipython3",
   "version": "3.8.3"
  }
 },
 "nbformat": 4,
 "nbformat_minor": 4
}
